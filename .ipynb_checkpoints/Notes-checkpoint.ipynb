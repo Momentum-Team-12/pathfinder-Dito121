{
 "cells": [
  {
   "cell_type": "code",
   "execution_count": 28,
   "id": "7eec0ed3",
   "metadata": {},
   "outputs": [],
   "source": [
    "file = 'elevation_small.txt'\n",
    "\n",
    "def get_data():\n",
    "    data = []\n",
    "    with open(file, 'r') as f:\n",
    "        lines = f.readlines()\n",
    "        for i in range(len(lines)):\n",
    "            lines[i] = lines[i].split()\n",
    "            data.append([])\n",
    "            for j in range(len(lines[i])):\n",
    "                data[i].append(int(lines[i][j]))\n",
    "        return data\n"
   ]
  },
  {
   "cell_type": "code",
   "execution_count": 29,
   "id": "c10c9cfe",
   "metadata": {},
   "outputs": [],
   "source": [
    "data = get_data()\n"
   ]
  },
  {
   "cell_type": "code",
   "execution_count": 35,
   "id": "99941062",
   "metadata": {
    "scrolled": true
   },
   "outputs": [
    {
     "name": "stdout",
     "output_type": "stream",
     "text": [
      "[4713, 4710, 4701, 4696, 4688, 4683, 4668, 4658, 4655, 4648, 4646, 4645, 4671, 4696, 4706]\n",
      "[4714, 4708, 4698, 4691, 4683, 4680, 4675, 4664, 4656, 4647, 4643, 4637, 4653, 4692, 4703]\n",
      "[4719, 4709, 4706, 4702, 4695, 4684, 4680, 4672, 4658, 4650, 4643, 4640, 4646, 4684, 4688]\n",
      "[4720, 4716, 4708, 4701, 4693, 4686, 4673, 4669, 4659, 4649, 4642, 4635, 4631, 4651, 4666]\n",
      "[4717, 4711, 4702, 4693, 4687, 4684, 4673, 4664, 4660, 4655, 4646, 4640, 4637, 4624, 4632]\n",
      "[4712, 4703, 4697, 4688, 4685, 4679, 4669, 4664, 4658, 4659, 4655, 4664, 4667, 4650, 4639]\n",
      "[4706, 4699, 4692, 4680, 4680, 4678, 4663, 4676, 4670, 4678, 4680, 4687, 4680, 4682, 4673]\n",
      "[4704, 4698, 4695, 4688, 4690, 4686, 4700, 4694, 4697, 4700, 4705, 4710, 4701, 4692, 4687]\n",
      "[4709, 4703, 4705, 4711, 4717, 4719, 4710, 4716, 4714, 4708, 4714, 4709, 4701, 4684, 4664]\n",
      "[4712, 4715, 4718, 4724, 4725, 4724, 4717, 4717, 4717, 4715, 4709, 4701, 4685, 4669, 4631]\n",
      "[4695, 4702, 4702, 4704, 4717, 4727, 4718, 4717, 4715, 4707, 4697, 4688, 4672, 4640, 4600]\n",
      "[4661, 4667, 4675, 4690, 4707, 4721, 4716, 4711, 4708, 4702, 4689, 4666, 4651, 4606, 4579]\n",
      "[4650, 4647, 4660, 4679, 4709, 4711, 4708, 4704, 4703, 4695, 4671, 4648, 4619, 4589, 4585]\n",
      "[4646, 4646, 4657, 4683, 4700, 4676, 4662, 4661, 4662, 4657, 4651, 4626, 4595, 4585, 4599]\n",
      "[4651, 4663, 4643, 4656, 4651, 4631, 4624, 4623, 4615, 4612, 4610, 4595, 4598, 4611, 4629]\n"
     ]
    }
   ],
   "source": [
    "print(data[0][:15])\n",
    "print(data[1][:15])\n",
    "print(data[2][:15])\n",
    "print(data[3][:15])\n",
    "print(data[4][:15])\n",
    "print(data[5][:15])\n",
    "print(data[6][:15])\n",
    "print(data[7][:15])\n",
    "print(data[8][:15])\n",
    "print(data[9][:15])\n",
    "print(data[10][:15])\n",
    "print(data[11][:15])\n",
    "print(data[12][:15])\n",
    "print(data[13][:15])\n",
    "print(data[14][:15])"
   ]
  },
  {
   "cell_type": "code",
   "execution_count": null,
   "id": "b3feef59",
   "metadata": {},
   "outputs": [],
   "source": []
  }
 ],
 "metadata": {
  "kernelspec": {
   "display_name": "Python 3 (ipykernel)",
   "language": "python",
   "name": "python3"
  },
  "language_info": {
   "codemirror_mode": {
    "name": "ipython",
    "version": 3
   },
   "file_extension": ".py",
   "mimetype": "text/x-python",
   "name": "python",
   "nbconvert_exporter": "python",
   "pygments_lexer": "ipython3",
   "version": "3.10.2"
  }
 },
 "nbformat": 4,
 "nbformat_minor": 5
}
