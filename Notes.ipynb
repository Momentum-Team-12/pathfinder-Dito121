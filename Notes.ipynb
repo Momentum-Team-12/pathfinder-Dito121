{
 "cells": [
  {
   "cell_type": "code",
   "execution_count": 68,
   "id": "4c51fd50",
   "metadata": {},
   "outputs": [],
   "source": [
    "import numpy as np"
   ]
  },
  {
   "cell_type": "code",
   "execution_count": 62,
   "id": "7eec0ed3",
   "metadata": {},
   "outputs": [],
   "source": [
    "def get_data(file):\n",
    "    elevation_data = []\n",
    "\n",
    "    with open(file, 'r') as f:\n",
    "        lines = f.readlines()\n",
    "\n",
    "        for i in range(len(lines)):\n",
    "            lines[i] = lines[i].split()\n",
    "            elevation_data.append([])\n",
    "\n",
    "            for j in range(len(lines[i])):\n",
    "                elevation_data[i].append(int(lines[i][j]))\n",
    "        return elevation_data\n"
   ]
  },
  {
   "cell_type": "code",
   "execution_count": 63,
   "id": "c10c9cfe",
   "metadata": {},
   "outputs": [],
   "source": [
    "file = 'elevation_small.txt'\n",
    "elevations = get_data(file)\n"
   ]
  },
  {
   "cell_type": "code",
   "execution_count": 46,
   "id": "a923dd57",
   "metadata": {},
   "outputs": [
    {
     "data": {
      "text/plain": [
       "0"
      ]
     },
     "execution_count": 46,
     "metadata": {},
     "output_type": "execute_result"
    }
   ],
   "source": [
    "(current_elevation - min_elevation) // ((max_elevation - min_elevation)//256 + 1)"
   ]
  },
  {
   "cell_type": "code",
   "execution_count": 70,
   "id": "e435500f",
   "metadata": {
    "scrolled": true
   },
   "outputs": [
    {
     "name": "stdout",
     "output_type": "stream",
     "text": [
      "5648\n"
     ]
    }
   ],
   "source": [
    "max_elevation = np.amax(elevations)\n",
    "print(max_elevation)"
   ]
  },
  {
   "cell_type": "code",
   "execution_count": 71,
   "id": "d50c7e2a",
   "metadata": {},
   "outputs": [
    {
     "name": "stdout",
     "output_type": "stream",
     "text": [
      "3139\n"
     ]
    }
   ],
   "source": [
    "min_elevation = np.amin(elevations)\n",
    "print(min_elevation)"
   ]
  },
  {
   "cell_type": "code",
   "execution_count": null,
   "id": "d127440f",
   "metadata": {},
   "outputs": [],
   "source": []
  }
 ],
 "metadata": {
  "kernelspec": {
   "display_name": "Python 3 (ipykernel)",
   "language": "python",
   "name": "python3"
  },
  "language_info": {
   "codemirror_mode": {
    "name": "ipython",
    "version": 3
   },
   "file_extension": ".py",
   "mimetype": "text/x-python",
   "name": "python",
   "nbconvert_exporter": "python",
   "pygments_lexer": "ipython3",
   "version": "3.10.2"
  }
 },
 "nbformat": 4,
 "nbformat_minor": 5
}
